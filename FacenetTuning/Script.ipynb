{
 "cells": [
  {
   "cell_type": "code",
   "execution_count": null,
   "id": "413ef7c6",
   "metadata": {},
   "outputs": [],
   "source": [
    "!open .bash_profile\n",
    "!export PYTHONPATH=$PYTHONPATH:/Users/santhoshnarayanan/Documents/Turing/GPU/MOSIP/facenet/src"
   ]
  },
  {
   "cell_type": "code",
   "execution_count": null,
   "id": "b43662b6",
   "metadata": {},
   "outputs": [],
   "source": [
    "!source ~/.bash_profile\n",
    "!python /Users/santhoshnarayanan/Documents/Turing/GPU/MOSIP/facenet/src/align/align_dataset_mtcnn.py /Users/santhoshnarayanan/Documents/Turing/GPU/MOSIP/data/train /Users/santhoshnarayanan/Documents/Turing/GPU/MOSIP/data/train_182 --image_size 182 --margin 44 --gpu_memory_fraction 0.8"
   ]
  },
  {
   "cell_type": "code",
   "execution_count": null,
   "id": "7e55778b",
   "metadata": {},
   "outputs": [],
   "source": [
    "python src/train_softmax.py --logs_base_dir ../logs/facenet --models_base_dir ../models/facenet --data_dir ../data/train/BF --image_size 160 --model_def models.inception_resnet_v1 --optimizer ADAM --learning_rate -1 --max_nrof_epochs 500 --batch_size 90 --keep_probability 0.4 --random_flip --use_fixed_image_standardization --learning_rate_schedule_file data/learning_rate_schedule_classifier_vggface2.txt --weight_decay 5e-4 --embedding_size 128 --validation_set_split_ratio 0.2 --validate_every_n_epochs 5 --filter_percentile 95.0 --gpu_memory_fraction 0.9\n"
   ]
  }
 ],
 "metadata": {
  "kernelspec": {
   "display_name": "Python 3 (ipykernel)",
   "language": "python",
   "name": "python3"
  },
  "language_info": {
   "codemirror_mode": {
    "name": "ipython",
    "version": 3
   },
   "file_extension": ".py",
   "mimetype": "text/x-python",
   "name": "python",
   "nbconvert_exporter": "python",
   "pygments_lexer": "ipython3",
   "version": "3.8.5"
  }
 },
 "nbformat": 4,
 "nbformat_minor": 5
}
