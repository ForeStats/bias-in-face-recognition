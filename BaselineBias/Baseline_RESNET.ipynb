{
 "cells": [
  {
   "cell_type": "code",
   "execution_count": null,
   "id": "29db6cf9",
   "metadata": {},
   "outputs": [],
   "source": [
    "import numpy as np\n",
    "import pandas as pd\n",
    "import os\n",
    "from tensorflow.keras.preprocessing import image\n",
    "from tensorflow.keras.models import Model\n",
    "from keras_vggface.vggface import VGGFace\n",
    "from keras_vggface import utils"
   ]
  },
  {
   "cell_type": "code",
   "execution_count": null,
   "id": "a8ff05ef",
   "metadata": {},
   "outputs": [],
   "source": [
    "# create a vggface model\n",
    "model = VGGFace(model='resnet50')\n",
    "model.summary()\n",
    "# model = VGGFace(model='resnet50', include_top=False, input_shape=(224, 224, 3))"
   ]
  },
  {
   "cell_type": "code",
   "execution_count": null,
   "id": "089e3aca",
   "metadata": {},
   "outputs": [],
   "source": [
    "# summarize input and output shape\n",
    "layer_name = 'flatten'\n",
    "out = model.get_layer(layer_name).output\n",
    "model = Model(model.input, out)\n",
    "print('Inputs: %s' % model.inputs)\n",
    "print('Outputs: %s' % model.outputs)\n",
    "target_shape = (224, 224)"
   ]
  },
  {
   "cell_type": "code",
   "execution_count": null,
   "id": "b255834a",
   "metadata": {},
   "outputs": [],
   "source": [
    "#db_path = '/Users/santhoshnarayanan/Documents/Turing/GPU/VGGData/testset'\n",
    "db_path = '/Users/santhoshnarayanan/Documents/Turing/GPU/VGGData/blackset'\n",
    "celebs  = []\n",
    " \n",
    "for r, d, f in os.walk(db_path): # r=root, d=directories, f = files\n",
    "    for file in f:\n",
    "        if ('.jpg' in file):\n",
    "            exact_path = r + \"/\" + file\n",
    "            celebs.append(exact_path)"
   ]
  },
  {
   "cell_type": "code",
   "execution_count": null,
   "id": "0488b433",
   "metadata": {},
   "outputs": [],
   "source": [
    "imgs = [image.load_img(img, target_size=target_shape) for img in celebs]\n",
    "X = np.float32([utils.preprocess_input(np.float32(img), version=1) for img in imgs])\n",
    "display(X.shape)"
   ]
  },
  {
   "cell_type": "code",
   "execution_count": null,
   "id": "01c6bf41",
   "metadata": {},
   "outputs": [],
   "source": [
    "repA = model.predict(X[0:5000], batch_size=64)\n",
    "display(repA.shape)\n",
    "repB = model.predict(X[5000:10000], batch_size=64)\n",
    "display(repB.shape)\n",
    "repC = model.predict(X[10000:14400], batch_size=64)\n",
    "display(repC.shape)\n",
    "rep = np.concatenate((repA, repB, repC), axis=0)\n",
    "display(rep.shape)"
   ]
  },
  {
   "cell_type": "code",
   "execution_count": null,
   "id": "227149d8",
   "metadata": {},
   "outputs": [],
   "source": [
    "df = pd.DataFrame(rep)  \n",
    "df.insert(loc = 0,\n",
    "          column = 'celeb',\n",
    "          value = celebs)\n",
    "display(df)"
   ]
  },
  {
   "cell_type": "code",
   "execution_count": null,
   "id": "4ef106d0",
   "metadata": {},
   "outputs": [],
   "source": [
    "df.to_csv('rep_RESNET.csv')"
   ]
  }
 ],
 "metadata": {
  "kernelspec": {
   "display_name": "Python 3 (ipykernel)",
   "language": "python",
   "name": "python3"
  },
  "language_info": {
   "codemirror_mode": {
    "name": "ipython",
    "version": 3
   },
   "file_extension": ".py",
   "mimetype": "text/x-python",
   "name": "python",
   "nbconvert_exporter": "python",
   "pygments_lexer": "ipython3",
   "version": "3.8.5"
  }
 },
 "nbformat": 4,
 "nbformat_minor": 5
}
