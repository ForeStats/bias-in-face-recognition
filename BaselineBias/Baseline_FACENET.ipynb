{
 "cells": [
  {
   "cell_type": "code",
   "execution_count": 1,
   "id": "29db6cf9",
   "metadata": {},
   "outputs": [
    {
     "name": "stderr",
     "output_type": "stream",
     "text": [
      "2023-03-08 13:15:54.286486: I tensorflow/core/platform/cpu_feature_guard.cc:193] This TensorFlow binary is optimized with oneAPI Deep Neural Network Library (oneDNN) to use the following CPU instructions in performance-critical operations:  AVX2 FMA\n",
      "To enable them in other operations, rebuild TensorFlow with the appropriate compiler flags.\n"
     ]
    }
   ],
   "source": [
    "import numpy as np\n",
    "import pandas as pd\n",
    "import os\n",
    "from tensorflow.keras.preprocessing import image\n",
    "from keras_facenet import FaceNet"
   ]
  },
  {
   "cell_type": "code",
   "execution_count": 2,
   "id": "cdad42d3",
   "metadata": {},
   "outputs": [
    {
     "name": "stderr",
     "output_type": "stream",
     "text": [
      "2023-03-08 13:16:00.513231: I tensorflow/core/platform/cpu_feature_guard.cc:193] This TensorFlow binary is optimized with oneAPI Deep Neural Network Library (oneDNN) to use the following CPU instructions in performance-critical operations:  AVX2 FMA\n",
      "To enable them in other operations, rebuild TensorFlow with the appropriate compiler flags.\n",
      "2023-03-08 13:16:00.514251: I tensorflow/core/common_runtime/pluggable_device/pluggable_device_factory.cc:306] Could not identify NUMA node of platform GPU ID 0, defaulting to 0. Your kernel may not have been built with NUMA support.\n",
      "2023-03-08 13:16:00.514319: I tensorflow/core/platform/cpu_feature_guard.cc:193] This TensorFlow binary is optimized with oneAPI Deep Neural Network Library (oneDNN) to use the following CPU instructions in performance-critical operations:  AVX2 FMA\n",
      "To enable them in other operations, rebuild TensorFlow with the appropriate compiler flags.\n",
      "2023-03-08 13:16:00.514799: I tensorflow/core/common_runtime/pluggable_device/pluggable_device_factory.cc:272] Created TensorFlow device (/job:localhost/replica:0/task:0/device:GPU:0 with 0 MB memory) -> physical PluggableDevice (device: 0, name: METAL, pci bus id: <undefined>)\n"
     ]
    },
    {
     "name": "stdout",
     "output_type": "stream",
     "text": [
      "Metal device set to: AMD Radeon Pro 5500M\n",
      "Inputs: [<KerasTensor: shape=(None, None, None, 3) dtype=float32 (created by layer 'input_1')>]\n",
      "Outputs: [<KerasTensor: shape=(None, 128) dtype=float32 (created by layer 'normalize')>]\n"
     ]
    }
   ],
   "source": [
    "# create a facenet model\n",
    "model = FaceNet(key = '20180402-114759',\n",
    "# model = FaceNet(key = '20180408-102900',\n",
    "# model = FaceNet(key = '20170511-185253',\n",
    "        use_prebuilt=True,\n",
    "        cache_folder='/Users/santhoshnarayanan/Documents/Turing/GPU/facenet_weights').model\n",
    "\n",
    "# summarize input and output shape\n",
    "print('Inputs: %s' % model.inputs)\n",
    "print('Outputs: %s' % model.outputs)\n",
    "target_shape = (160, 160)"
   ]
  },
  {
   "cell_type": "code",
   "execution_count": null,
   "id": "b255834a",
   "metadata": {},
   "outputs": [],
   "source": [
    "db_path = '/Users/santhoshnarayanan/Documents/Turing/GPU/VGGData/testset'\n",
    "#db_path = '/Users/santhoshnarayanan/Documents/Turing/GPU/VGGData/blncdset'\n",
    "celebs  = []\n",
    " \n",
    "for r, d, f in os.walk(db_path): # r=root, d=directories, f = files\n",
    "    for file in f:\n",
    "        if ('.jpg' in file):\n",
    "            exact_path = r + \"/\" + file\n",
    "            celebs.append(exact_path)"
   ]
  },
  {
   "cell_type": "code",
   "execution_count": null,
   "id": "88ac2f98",
   "metadata": {},
   "outputs": [],
   "source": [
    "imgs = [image.load_img(img, target_size=target_shape) for img in celebs]\n",
    "X = np.float32([(np.float32(img) - 127.5) / 127.5 for img in imgs])\n",
    "display(X.shape)"
   ]
  },
  {
   "cell_type": "code",
   "execution_count": null,
   "id": "48411300",
   "metadata": {},
   "outputs": [],
   "source": [
    "repA = model.predict(X[0:5000], batch_size=64)\n",
    "display(repA.shape)\n",
    "repB = model.predict(X[5000:10000], batch_size=64)\n",
    "display(repB.shape)\n",
    "repC = model.predict(X[10000:14400], batch_size=64)\n",
    "display(repC.shape)\n",
    "rep = np.concatenate((repA, repB, repC), axis=0)\n",
    "display(rep.shape)"
   ]
  },
  {
   "cell_type": "code",
   "execution_count": null,
   "id": "334dfd85",
   "metadata": {},
   "outputs": [],
   "source": [
    "repA = model.predict(X[0:5000], batch_size=64)\n",
    "display(repA.shape)\n",
    "repB = model.predict(X[5000:10000], batch_size=64)\n",
    "display(repB.shape)\n",
    "repC = model.predict(X[10000:15000], batch_size=64)\n",
    "display(repC.shape)\n",
    "repD = model.predict(X[15000:20000], batch_size=64)\n",
    "display(repD.shape)\n",
    "repE = model.predict(X[20000:25000], batch_size=64)\n",
    "display(repE.shape)\n",
    "repF = model.predict(X[25000:30000], batch_size=64)\n",
    "display(repF.shape)\n",
    "repG = model.predict(X[30000:35000], batch_size=64)\n",
    "display(repG.shape)\n",
    "repH = model.predict(X[35000:36000], batch_size=64)\n",
    "display(repH.shape)\n",
    "rep = np.concatenate((repA, repB, repC, repD, repE, repF, repG, repH), axis=0)\n",
    "display(rep.shape)"
   ]
  },
  {
   "cell_type": "code",
   "execution_count": null,
   "id": "aaf9a7b1",
   "metadata": {},
   "outputs": [],
   "source": [
    "df = pd.DataFrame(rep) \n",
    "df.insert(loc = 0,\n",
    "          column = 'celeb',\n",
    "          value = celebs)\n",
    "display(df)"
   ]
  },
  {
   "cell_type": "code",
   "execution_count": null,
   "id": "4ef106d0",
   "metadata": {},
   "outputs": [],
   "source": [
    "df.to_csv('./HardTriplets/balanced/rep_FACENET.csv')"
   ]
  },
  {
   "cell_type": "code",
   "execution_count": null,
   "id": "890ccddd",
   "metadata": {},
   "outputs": [],
   "source": [
    "model.summary()"
   ]
  }
 ],
 "metadata": {
  "kernelspec": {
   "display_name": "Python 3 (ipykernel)",
   "language": "python",
   "name": "python3"
  },
  "language_info": {
   "codemirror_mode": {
    "name": "ipython",
    "version": 3
   },
   "file_extension": ".py",
   "mimetype": "text/x-python",
   "name": "python",
   "nbconvert_exporter": "python",
   "pygments_lexer": "ipython3",
   "version": "3.8.5"
  }
 },
 "nbformat": 4,
 "nbformat_minor": 5
}
